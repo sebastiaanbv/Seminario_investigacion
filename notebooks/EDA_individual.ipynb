{
 "cells": [
  {
   "cell_type": "code",
   "execution_count": 11,
   "metadata": {},
   "outputs": [],
   "source": [
    "import pandas as pd\n",
    "\n",
    "# 🎯 Opcional: configuración para ver todas las columnas y filas\n",
    "pd.set_option('display.max_columns', None)\n",
    "pd.set_option('display.max_rows', 100)"
   ]
  },
  {
   "cell_type": "code",
   "execution_count": 13,
   "metadata": {},
   "outputs": [
    {
     "name": "stdout",
     "output_type": "stream",
     "text": [
      "Archivos en data/raw/:\n"
     ]
    },
    {
     "ename": "FileNotFoundError",
     "evalue": "[WinError 3] El sistema no puede encontrar la ruta especificada: 'data/raw'",
     "output_type": "error",
     "traceback": [
      "\u001b[31m---------------------------------------------------------------------------\u001b[39m",
      "\u001b[31mFileNotFoundError\u001b[39m                         Traceback (most recent call last)",
      "\u001b[36mCell\u001b[39m\u001b[36m \u001b[39m\u001b[32mIn[13]\u001b[39m\u001b[32m, line 5\u001b[39m\n\u001b[32m      3\u001b[39m \u001b[38;5;66;03m# Verifica que el archivo está realmente allí\u001b[39;00m\n\u001b[32m      4\u001b[39m \u001b[38;5;28mprint\u001b[39m(\u001b[33m\"\u001b[39m\u001b[33mArchivos en data/raw/:\u001b[39m\u001b[33m\"\u001b[39m)\n\u001b[32m----> \u001b[39m\u001b[32m5\u001b[39m \u001b[38;5;28mprint\u001b[39m(\u001b[43mos\u001b[49m\u001b[43m.\u001b[49m\u001b[43mlistdir\u001b[49m\u001b[43m(\u001b[49m\u001b[33;43m\"\u001b[39;49m\u001b[33;43mdata/raw\u001b[39;49m\u001b[33;43m\"\u001b[39;49m\u001b[43m)\u001b[49m)\n",
      "\u001b[31mFileNotFoundError\u001b[39m: [WinError 3] El sistema no puede encontrar la ruta especificada: 'data/raw'"
     ]
    }
   ],
   "source": [
    "import os\n",
    "\n",
    "# Verifica que el archivo está realmente allí\n",
    "print(\"Archivos en data/raw/:\")\n",
    "print(os.listdir(\"data/raw\"))\n"
   ]
  },
  {
   "cell_type": "code",
   "execution_count": 12,
   "metadata": {},
   "outputs": [
    {
     "name": "stdout",
     "output_type": "stream",
     "text": [
      "Archivos en data/raw/:\n"
     ]
    },
    {
     "ename": "FileNotFoundError",
     "evalue": "[WinError 3] El sistema no puede encontrar la ruta especificada: 'data/raw'",
     "output_type": "error",
     "traceback": [
      "\u001b[31m---------------------------------------------------------------------------\u001b[39m",
      "\u001b[31mFileNotFoundError\u001b[39m                         Traceback (most recent call last)",
      "\u001b[36mCell\u001b[39m\u001b[36m \u001b[39m\u001b[32mIn[12]\u001b[39m\u001b[32m, line 6\u001b[39m\n\u001b[32m      4\u001b[39m \u001b[38;5;66;03m# Verifica que el archivo está realmente allí\u001b[39;00m\n\u001b[32m      5\u001b[39m \u001b[38;5;28mprint\u001b[39m(\u001b[33m\"\u001b[39m\u001b[33mArchivos en data/raw/:\u001b[39m\u001b[33m\"\u001b[39m)\n\u001b[32m----> \u001b[39m\u001b[32m6\u001b[39m \u001b[38;5;28mprint\u001b[39m(\u001b[43mos\u001b[49m\u001b[43m.\u001b[49m\u001b[43mlistdir\u001b[49m\u001b[43m(\u001b[49m\u001b[33;43m\"\u001b[39;49m\u001b[33;43mdata/raw\u001b[39;49m\u001b[33;43m\"\u001b[39;49m\u001b[43m)\u001b[49m)\n\u001b[32m      8\u001b[39m \u001b[38;5;66;03m# Usa una ruta raw string para evitar errores con \\U\u001b[39;00m\n\u001b[32m      9\u001b[39m ruta_cierre = \u001b[33mr\u001b[39m\u001b[33m\"\u001b[39m\u001b[33mC:\u001b[39m\u001b[33m\\\u001b[39m\u001b[33mUsers\u001b[39m\u001b[33m\\\u001b[39m\u001b[33mUSER\u001b[39m\u001b[33m\\\u001b[39m\u001b[33mOneDrive - universidadean.edu.co\u001b[39m\u001b[33m\\\u001b[39m\u001b[33m2. Semestre\u001b[39m\u001b[33m\\\u001b[39m\u001b[33mSeminario de investigación\u001b[39m\u001b[33m\\\u001b[39m\u001b[33mModulo 2\u001b[39m\u001b[33m\\\u001b[39m\u001b[33mdata\u001b[39m\u001b[33m\\\u001b[39m\u001b[33mraw\u001b[39m\u001b[33m\\\u001b[39m\u001b[33mCierres Cartera.csv\u001b[39m\u001b[33m\"\u001b[39m\n",
      "\u001b[31mFileNotFoundError\u001b[39m: [WinError 3] El sistema no puede encontrar la ruta especificada: 'data/raw'"
     ]
    }
   ],
   "source": [
    "import pandas as pd\n",
    "import os\n",
    "\n",
    "# Verifica que el archivo está realmente allí\n",
    "print(\"Archivos en data/raw/:\")\n",
    "print(os.listdir(\"data/raw\"))\n",
    "\n",
    "# Usa una ruta raw string para evitar errores con \\U\n",
    "ruta_cierre = r\"C:\\Users\\USER\\OneDrive - universidadean.edu.co\\2. Semestre\\Seminario de investigación\\Modulo 2\\data\\raw\\Cierres Cartera.csv\"\n",
    "\n",
    "\n",
    "try:\n",
    "    df_cierre = pd.read_csv(ruta_cierre)\n",
    "    print(\"✅ Archivo cargado correctamente\")\n",
    "    \n",
    "    # EDA básico\n",
    "    print(f\"Filas: {df_cierre.shape[0]}, Columnas: {df_cierre.shape[1]}\")\n",
    "    print(\"🧱 Columnas:\")\n",
    "    print(df_cierre.columns)\n",
    "    print(\"\\n🕳️ Valores nulos:\")\n",
    "    print(df_cierre.isnull().sum())\n",
    "    print(\"\\n📑 Tipos de datos:\")\n",
    "    print(df_cierre.dtypes)\n",
    "\n",
    "except FileNotFoundError:\n",
    "    print(f\"❌ Archivo no encontrado: {ruta_cierre}\")\n",
    "\n",
    "\n"
   ]
  },
  {
   "cell_type": "code",
   "execution_count": null,
   "metadata": {},
   "outputs": [],
   "source": [
    "# 2. Dataset: Truepay\n",
    "df_truepay = pd.read_excel(\"data/raw/Consolidado BD Truepay 2024 _ 2025 (1).xlsx\")\n",
    "print(\"\\n📊 Consolidado Truepay\")\n",
    "print(f\"Filas: {df_truepay.shape[0]}, Columnas: {df_truepay.shape[1]}\")\n",
    "display(df_truepay.head())\n",
    "display(df_truepay.info())\n",
    "display(df_truepay.isnull().sum())\n",
    "display(df_truepay.duplicated().sum())"
   ]
  },
  {
   "cell_type": "code",
   "execution_count": null,
   "metadata": {},
   "outputs": [],
   "source": [
    "# 3. Dataset: Variables de Segmentación\n",
    "df_segmentacion = pd.read_excel(\"data/raw/Consolidado_Variables_Segmentación_Cartera.xlsx\")\n",
    "print(\"\\n📊 Segmentación de cartera\")\n",
    "print(f\"Filas: {df_segmentacion.shape[0]}, Columnas: {df_segmentacion.shape[1]}\")\n",
    "display(df_segmentacion.head())\n",
    "display(df_segmentacion.info())\n",
    "display(df_segmentacion.isnull().sum())\n",
    "display(df_segmentacion.duplicated().sum())"
   ]
  }
 ],
 "metadata": {
  "kernelspec": {
   "display_name": "seminario_investigacion",
   "language": "python",
   "name": "python3"
  },
  "language_info": {
   "codemirror_mode": {
    "name": "ipython",
    "version": 3
   },
   "file_extension": ".py",
   "mimetype": "text/x-python",
   "name": "python",
   "nbconvert_exporter": "python",
   "pygments_lexer": "ipython3",
   "version": "3.13.2"
  }
 },
 "nbformat": 4,
 "nbformat_minor": 2
}
